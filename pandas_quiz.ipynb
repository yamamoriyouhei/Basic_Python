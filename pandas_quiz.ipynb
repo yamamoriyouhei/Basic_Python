{
 "cells": [
  {
   "attachments": {},
   "cell_type": "markdown",
   "metadata": {
    "colab_type": "text",
    "id": "XfmMtuxKYRoO"
   },
   "source": [
    "# Pandas確認課題\n",
    "\n",
    "このPandas確認問題は、データサイエンス100本ノックの問題で最低限必要な問題を抜粋したものですが、[Introduction_to_Pandas](./11_Introduction_to_Pandas.ipynb) に掲載されていない機能が必要な問題もあります。\n",
    "初めて触るライブラリを調べながら使うというのはよくある光景です。この課題では皆さんにもそれに挑戦していただきます。  \n",
    "ヒントとして検索キーワードなどを載せておくので、自力で調べながら解いてみましょう。  \n",
    "\n"
   ]
  },
  {
   "cell_type": "markdown",
   "metadata": {
    "colab_type": "text",
    "id": "9ktBdoeha1jL"
   },
   "source": [
    "## 必要モジュールのインポート\n",
    "\n",
    "この問題で使うモジュールをインポートします．"
   ]
  },
  {
   "cell_type": "code",
   "execution_count": 5,
   "metadata": {
    "colab": {},
    "colab_type": "code",
    "id": "2IhABxEEaq19"
   },
   "outputs": [],
   "source": [
    "import pandas as pd\n",
    "import numpy as np"
   ]
  },
  {
   "cell_type": "markdown",
   "metadata": {
    "colab_type": "text",
    "id": "llLJCZTEa5Rb"
   },
   "source": [
    "## データの読み込み"
   ]
  },
  {
   "cell_type": "code",
   "execution_count": 6,
   "metadata": {
    "colab": {},
    "colab_type": "code",
    "id": "uN-SvpE_a50E"
   },
   "outputs": [],
   "source": [
    "df_customer = pd.read_csv('https://raw.githubusercontent.com/The-Japan-DataScientist-Society/100knocks-preprocess/master/docker/work/data/customer.csv')\n",
    "df_product = pd.read_csv('https://raw.githubusercontent.com/The-Japan-DataScientist-Society/100knocks-preprocess/master/docker/work/data/product.csv')\n",
    "df_receipt = pd.read_csv('https://raw.githubusercontent.com/The-Japan-DataScientist-Society/100knocks-preprocess/master/docker/work/data/receipt.csv')"
   ]
  },
  {
   "cell_type": "markdown",
   "metadata": {
    "colab_type": "text",
    "id": "xm5FMZJobU3Y"
   },
   "source": [
    "---\n",
    "## 問1. 条件抽出\n",
    "> P-006: レシート明細データフレーム「df_receipt」から売上日（sales_ymd）、顧客ID（customer_id）、商品コード（product_cd）、売上数量（quantity）、売上金額（amount）の順に列を指定し、以下の条件を満たすデータを抽出せよ。\n",
    "> - 顧客ID（customer_id）が\"CS018205000001\"\n",
    "> - 売上金額（amount）が1,000以上または売上数量（quantity）が5以上"
   ]
  },
  {
   "cell_type": "code",
   "execution_count": 7,
   "metadata": {
    "colab": {
     "base_uri": "https://localhost:8080/",
     "height": 198
    },
    "colab_type": "code",
    "id": "KSOu6AWabVaD",
    "outputId": "91faaad5-57ca-4a67-c046-195afa4d21df"
   },
   "outputs": [
    {
     "data": {
      "text/html": [
       "<div>\n",
       "<style scoped>\n",
       "    .dataframe tbody tr th:only-of-type {\n",
       "        vertical-align: middle;\n",
       "    }\n",
       "\n",
       "    .dataframe tbody tr th {\n",
       "        vertical-align: top;\n",
       "    }\n",
       "\n",
       "    .dataframe thead th {\n",
       "        text-align: right;\n",
       "    }\n",
       "</style>\n",
       "<table border=\"1\" class=\"dataframe\">\n",
       "  <thead>\n",
       "    <tr style=\"text-align: right;\">\n",
       "      <th></th>\n",
       "      <th>sales_ymd</th>\n",
       "      <th>customer_id</th>\n",
       "      <th>product_cd</th>\n",
       "      <th>quantity</th>\n",
       "      <th>amount</th>\n",
       "    </tr>\n",
       "  </thead>\n",
       "  <tbody>\n",
       "    <tr>\n",
       "      <th>36</th>\n",
       "      <td>20180911</td>\n",
       "      <td>CS018205000001</td>\n",
       "      <td>P071401012</td>\n",
       "      <td>1</td>\n",
       "      <td>2200</td>\n",
       "    </tr>\n",
       "    <tr>\n",
       "      <th>9843</th>\n",
       "      <td>20180414</td>\n",
       "      <td>CS018205000001</td>\n",
       "      <td>P060104007</td>\n",
       "      <td>6</td>\n",
       "      <td>600</td>\n",
       "    </tr>\n",
       "    <tr>\n",
       "      <th>21110</th>\n",
       "      <td>20170614</td>\n",
       "      <td>CS018205000001</td>\n",
       "      <td>P050206001</td>\n",
       "      <td>5</td>\n",
       "      <td>990</td>\n",
       "    </tr>\n",
       "    <tr>\n",
       "      <th>68117</th>\n",
       "      <td>20190226</td>\n",
       "      <td>CS018205000001</td>\n",
       "      <td>P071401020</td>\n",
       "      <td>1</td>\n",
       "      <td>2200</td>\n",
       "    </tr>\n",
       "    <tr>\n",
       "      <th>72254</th>\n",
       "      <td>20180911</td>\n",
       "      <td>CS018205000001</td>\n",
       "      <td>P071401005</td>\n",
       "      <td>1</td>\n",
       "      <td>1100</td>\n",
       "    </tr>\n",
       "  </tbody>\n",
       "</table>\n",
       "</div>"
      ],
      "text/plain": [
       "       sales_ymd     customer_id  product_cd  quantity  amount\n",
       "36      20180911  CS018205000001  P071401012         1    2200\n",
       "9843    20180414  CS018205000001  P060104007         6     600\n",
       "21110   20170614  CS018205000001  P050206001         5     990\n",
       "68117   20190226  CS018205000001  P071401020         1    2200\n",
       "72254   20180911  CS018205000001  P071401005         1    1100"
      ]
     },
     "execution_count": 7,
     "metadata": {},
     "output_type": "execute_result"
    }
   ],
   "source": [
    "\n",
    "df_receipt_select = df_receipt[(df_receipt['customer_id'] == \"CS018205000001\") &((df_receipt['amount'] >= 1000) | (df_receipt['quantity'] >= 5))]\n",
    "df_receipt_select[['sales_ymd', 'customer_id', 'product_cd', 'quantity', 'amount']].head(5)\n",
    "\n"
   ]
  },
  {
   "cell_type": "markdown",
   "metadata": {
    "colab_type": "text",
    "id": "7WsKq3Voj0LF"
   },
   "source": [
    "---\n",
    "## 問2. ソート\n",
    "> P-18: 顧客データフレーム（df_customer）を生年月日（birth_day）で若い順にソートし、先頭5件を全項目表示せよ。"
   ]
  },
  {
   "cell_type": "code",
   "execution_count": 8,
   "metadata": {
    "colab": {
     "base_uri": "https://localhost:8080/",
     "height": 694
    },
    "colab_type": "code",
    "id": "uLdYmXgdjxaw",
    "outputId": "7a064e8c-4db3-4350-a212-688cb9b49980"
   },
   "outputs": [
    {
     "data": {
      "text/html": [
       "<div>\n",
       "<style scoped>\n",
       "    .dataframe tbody tr th:only-of-type {\n",
       "        vertical-align: middle;\n",
       "    }\n",
       "\n",
       "    .dataframe tbody tr th {\n",
       "        vertical-align: top;\n",
       "    }\n",
       "\n",
       "    .dataframe thead th {\n",
       "        text-align: right;\n",
       "    }\n",
       "</style>\n",
       "<table border=\"1\" class=\"dataframe\">\n",
       "  <thead>\n",
       "    <tr style=\"text-align: right;\">\n",
       "      <th></th>\n",
       "      <th>customer_id</th>\n",
       "      <th>customer_name</th>\n",
       "      <th>gender_cd</th>\n",
       "      <th>gender</th>\n",
       "      <th>birth_day</th>\n",
       "      <th>age</th>\n",
       "      <th>postal_cd</th>\n",
       "      <th>address</th>\n",
       "      <th>application_store_cd</th>\n",
       "      <th>application_date</th>\n",
       "      <th>status_cd</th>\n",
       "    </tr>\n",
       "  </thead>\n",
       "  <tbody>\n",
       "    <tr>\n",
       "      <th>18817</th>\n",
       "      <td>CS003813000014</td>\n",
       "      <td>村山 菜々美</td>\n",
       "      <td>1</td>\n",
       "      <td>女性</td>\n",
       "      <td>1928-11-26</td>\n",
       "      <td>90</td>\n",
       "      <td>182-0007</td>\n",
       "      <td>東京都調布市菊野台**********</td>\n",
       "      <td>S13003</td>\n",
       "      <td>20160214</td>\n",
       "      <td>0-00000000-0</td>\n",
       "    </tr>\n",
       "    <tr>\n",
       "      <th>12328</th>\n",
       "      <td>CS026813000004</td>\n",
       "      <td>吉村 朝陽</td>\n",
       "      <td>1</td>\n",
       "      <td>女性</td>\n",
       "      <td>1928-12-14</td>\n",
       "      <td>90</td>\n",
       "      <td>251-0043</td>\n",
       "      <td>神奈川県藤沢市辻堂元町**********</td>\n",
       "      <td>S14026</td>\n",
       "      <td>20150723</td>\n",
       "      <td>0-00000000-0</td>\n",
       "    </tr>\n",
       "    <tr>\n",
       "      <th>15682</th>\n",
       "      <td>CS018811000003</td>\n",
       "      <td>熊沢 美里</td>\n",
       "      <td>1</td>\n",
       "      <td>女性</td>\n",
       "      <td>1929-01-07</td>\n",
       "      <td>90</td>\n",
       "      <td>204-0004</td>\n",
       "      <td>東京都清瀬市野塩**********</td>\n",
       "      <td>S13018</td>\n",
       "      <td>20150403</td>\n",
       "      <td>0-00000000-0</td>\n",
       "    </tr>\n",
       "    <tr>\n",
       "      <th>15302</th>\n",
       "      <td>CS027803000004</td>\n",
       "      <td>内村 拓郎</td>\n",
       "      <td>0</td>\n",
       "      <td>男性</td>\n",
       "      <td>1929-01-12</td>\n",
       "      <td>90</td>\n",
       "      <td>251-0031</td>\n",
       "      <td>神奈川県藤沢市鵠沼藤が谷**********</td>\n",
       "      <td>S14027</td>\n",
       "      <td>20151227</td>\n",
       "      <td>0-00000000-0</td>\n",
       "    </tr>\n",
       "    <tr>\n",
       "      <th>1681</th>\n",
       "      <td>CS013801000003</td>\n",
       "      <td>天野 拓郎</td>\n",
       "      <td>0</td>\n",
       "      <td>男性</td>\n",
       "      <td>1929-01-15</td>\n",
       "      <td>90</td>\n",
       "      <td>274-0824</td>\n",
       "      <td>千葉県船橋市前原東**********</td>\n",
       "      <td>S12013</td>\n",
       "      <td>20160120</td>\n",
       "      <td>0-00000000-0</td>\n",
       "    </tr>\n",
       "  </tbody>\n",
       "</table>\n",
       "</div>"
      ],
      "text/plain": [
       "          customer_id customer_name  gender_cd gender   birth_day  age  \\\n",
       "18817  CS003813000014        村山 菜々美          1     女性  1928-11-26   90   \n",
       "12328  CS026813000004         吉村 朝陽          1     女性  1928-12-14   90   \n",
       "15682  CS018811000003         熊沢 美里          1     女性  1929-01-07   90   \n",
       "15302  CS027803000004         内村 拓郎          0     男性  1929-01-12   90   \n",
       "1681   CS013801000003         天野 拓郎          0     男性  1929-01-15   90   \n",
       "\n",
       "      postal_cd                 address application_store_cd  \\\n",
       "18817  182-0007     東京都調布市菊野台**********               S13003   \n",
       "12328  251-0043   神奈川県藤沢市辻堂元町**********               S14026   \n",
       "15682  204-0004      東京都清瀬市野塩**********               S13018   \n",
       "15302  251-0031  神奈川県藤沢市鵠沼藤が谷**********               S14027   \n",
       "1681   274-0824     千葉県船橋市前原東**********               S12013   \n",
       "\n",
       "       application_date     status_cd  \n",
       "18817          20160214  0-00000000-0  \n",
       "12328          20150723  0-00000000-0  \n",
       "15682          20150403  0-00000000-0  \n",
       "15302          20151227  0-00000000-0  \n",
       "1681           20160120  0-00000000-0  "
      ]
     },
     "execution_count": 8,
     "metadata": {},
     "output_type": "execute_result"
    }
   ],
   "source": [
    "df_as = df_customer.sort_values(by='birth_day')\n",
    "df_as.head()"
   ]
  },
  {
   "cell_type": "markdown",
   "metadata": {
    "colab_type": "text",
    "id": "1lRGtDSphhyQ"
   },
   "source": [
    "---\n",
    "## 問3. 全件数\n",
    "> P-021: レシート明細データフレーム（df_receipt）に対し、件数をカウントせよ。"
   ]
  },
  {
   "cell_type": "code",
   "execution_count": 10,
   "metadata": {
    "colab": {
     "base_uri": "https://localhost:8080/",
     "height": 35
    },
    "colab_type": "code",
    "id": "m-ihL_fVhhyQ",
    "outputId": "da0669b7-2c34-4dc6-becb-4da002103202"
   },
   "outputs": [
    {
     "data": {
      "text/plain": [
       "104681"
      ]
     },
     "execution_count": 10,
     "metadata": {},
     "output_type": "execute_result"
    }
   ],
   "source": [
    "df_receipt.shape[0]\n"
   ]
  },
  {
   "cell_type": "markdown",
   "metadata": {
    "colab_type": "text",
    "id": "MkjDW-oyhhyS"
   },
   "source": [
    "## 問4. ユニーク件数\n",
    "> P-022: レシート明細データフレーム（df_receipt）の顧客ID（customer_id）に対し、ユニーク件数をカウントせよ。"
   ]
  },
  {
   "cell_type": "code",
   "execution_count": 11,
   "metadata": {
    "colab": {
     "base_uri": "https://localhost:8080/",
     "height": 35
    },
    "colab_type": "code",
    "id": "0xSI9r8UhhyS",
    "outputId": "0c5a57f4-2088-4109-a40e-eb76c4845af0"
   },
   "outputs": [
    {
     "data": {
      "text/plain": [
       "8307"
      ]
     },
     "execution_count": 11,
     "metadata": {},
     "output_type": "execute_result"
    }
   ],
   "source": [
    "df_receipt['customer_id'].nunique()"
   ]
  },
  {
   "attachments": {},
   "cell_type": "markdown",
   "metadata": {},
   "source": [
    "<details>\n",
    "<summary>ヒント</summary>\n",
    "「ユニーク」というのはそのまま検索に使える単語です。  \n",
    "</details>"
   ]
  },
  {
   "cell_type": "markdown",
   "metadata": {
    "colab_type": "text",
    "id": "h9E9b_yUhhyq"
   },
   "source": [
    "---\n",
    "## 問5. 〇〇ごとに集計\n",
    "> P-035: レシート明細データフレーム（df_receipt）に対し、顧客ID（customer_id）ごとに売上金額（amount）を合計して全顧客の平均を求め、平均以上に買い物をしている顧客を抽出せよ。ただし、顧客IDが\"Z\"から始まるのものは非会員を表すため、除外して計算すること。なお、データは先頭5件だけ表示せよ。\n",
    "\n",
    "会員のみを抽出する方法は、例えば以下の2通りの方法があります。"
   ]
  },
  {
   "cell_type": "code",
   "execution_count": 9,
   "metadata": {},
   "outputs": [],
   "source": [
    "df_receipt_only_member = df_receipt[~df_receipt[\"customer_id\"].str.startswith(\"Z\")]\n",
    "df_receipt_only_member = df_receipt.query(\"not customer_id.str.startswith('Z')\", engine=\"python\")"
   ]
  },
  {
   "cell_type": "code",
   "execution_count": 10,
   "metadata": {
    "colab": {
     "base_uri": "https://localhost:8080/",
     "height": 225
    },
    "colab_type": "code",
    "id": "7lYKkmsohhyq",
    "outputId": "06bbc1ea-d6d0-4841-a6dd-1598974714b6"
   },
   "outputs": [
    {
     "name": "stdout",
     "output_type": "stream",
     "text": [
      "customer_id\n",
      "CS001115000010    3044\n",
      "CS001205000006    3337\n",
      "CS001214000009    4685\n",
      "CS001214000017    4132\n",
      "CS001214000052    5639\n",
      "Name: amount, dtype: int64\n"
     ]
    }
   ],
   "source": [
    "df_receipt_only_member = df_receipt[~df_receipt[\"customer_id\"].str.startswith(\"Z\")]\n",
    "customer_sales_sum = df_receipt_only_member.groupby('customer_id')['amount'].sum()\n",
    "average_sales = customer_sales_sum.mean()\n",
    "above_average_customers = customer_sales_sum[customer_sales_sum >= average_sales]\n",
    "\n",
    "print(above_average_customers.head())"
   ]
  },
  {
   "attachments": {},
   "cell_type": "markdown",
   "metadata": {},
   "source": [
    "<details>\n",
    "<summary>ヒント1</summary>\n",
    "「pandas 要素ごと 集計」 などで今回使える機能に関する記事が見つかります。\n",
    "</details>"
   ]
  },
  {
   "attachments": {},
   "cell_type": "markdown",
   "metadata": {},
   "source": [
    "<details>\n",
    "<summary>ヒント2</summary>\n",
    "メソッド名は \"groupby\" です。\n",
    "</details>"
   ]
  },
  {
   "cell_type": "markdown",
   "metadata": {
    "colab_type": "text",
    "id": "iNO7ESvWhhyw"
   },
   "source": [
    "---\n",
    "## 問6. DataFrameの結合\n",
    "> P-038: 顧客データフレーム（df_customer）とレシート明細データフレーム（df_receipt）から、各顧客ごとの売上金額合計を求めよ。ただし、買い物の実績がない顧客については売上金額を0として表示させること。また、顧客は性別コード（gender_cd）が女性（1）であるものを対象とし、非会員（顧客IDが'Z'から始まるもの）は除外すること。なお、結果は先頭5件だけ表示せよ。"
   ]
  },
  {
   "cell_type": "code",
   "execution_count": 10,
   "metadata": {},
   "outputs": [],
   "source": [
    "df_customer_only_member = df_customer[~df_customer[\"customer_id\"].str.startswith(\"Z\")]\n",
    "df_customer_only_member = df_customer.query(\"not customer_id.str.startswith('Z')\", engine=\"python\")"
   ]
  },
  {
   "cell_type": "code",
   "execution_count": 13,
   "metadata": {
    "colab": {
     "base_uri": "https://localhost:8080/",
     "height": 728
    },
    "colab_type": "code",
    "id": "hmc6LUaEhhyw",
    "outputId": "f1b1dc56-af65-4fbf-9d8a-5c0490a2ad17"
   },
   "outputs": [
    {
     "name": "stdout",
     "output_type": "stream",
     "text": [
      "      customer_id customer_name  gender_cd gender   birth_day  age postal_cd  \\\n",
      "0  CS021313000114        大野 あや子          1     女性  1981-04-29   37  259-1113   \n",
      "1  CS031415000172       宇多田 貴美子          1     女性  1976-10-04   42  151-0053   \n",
      "2  CS028811000001        堀井 かおり          1     女性  1933-03-27   86  245-0016   \n",
      "3  CS001215000145         田崎 美紀          1     女性  1995-03-29   24  144-0055   \n",
      "4  CS015414000103         奥野 陽子          1     女性  1977-08-09   41  136-0073   \n",
      "\n",
      "                  address application_store_cd  application_date  \\\n",
      "0    神奈川県伊勢原市粟窪**********               S14021          20150905   \n",
      "1     東京都渋谷区代々木**********               S13031          20150529   \n",
      "2  神奈川県横浜市泉区和泉町**********               S14028          20160115   \n",
      "3     東京都大田区仲六郷**********               S13001          20170605   \n",
      "4      東京都江東区北砂**********               S13015          20150722   \n",
      "\n",
      "      status_cd  amount  \n",
      "0  0-00000000-0     0.0  \n",
      "1  D-20100325-C  5088.0  \n",
      "2  0-00000000-0     0.0  \n",
      "3  6-20090929-2   875.0  \n",
      "4  B-20100609-B  3122.0  \n"
     ]
    }
   ],
   "source": [
    "df_customer_only_member = df_customer[~df_customer[\"customer_id\"].str.startswith(\"Z\")]\n",
    "df_filtered_customer = df_customer_only_member[df_customer_only_member['gender_cd'] == 1]\n",
    "\n",
    "df_receipt_grouped = df_receipt.groupby('customer_id')['amount'].sum().reset_index()\n",
    "\n",
    "df_result = df_filtered_customer.merge(df_receipt_grouped, on='customer_id', how='left')\n",
    "df_result['amount'] = df_result['amount'].fillna(0)\n",
    "\n",
    "\n",
    "print(df_result.head())\n"
   ]
  },
  {
   "attachments": {},
   "cell_type": "markdown",
   "metadata": {},
   "source": [
    "<details>\n",
    "<summary>ヒント1</summary>\n",
    "タイトル通り 「pandas DataFrame 結合」などと調べれば必要な機能に関する記事が見つかります。  \n",
    "</details>\n"
   ]
  },
  {
   "attachments": {},
   "cell_type": "markdown",
   "metadata": {},
   "source": [
    "<details>\n",
    "<summary>ヒント2</summary>\n",
    "\"merge\", \"join\"という似たメソッドがあります。  \n",
    "今回の場合\"merge\"が便利でしょう。\n",
    "</details>"
   ]
  },
  {
   "cell_type": "markdown",
   "metadata": {
    "colab_type": "text",
    "id": "umDmd8kohhzA"
   },
   "source": [
    "---\n",
    "## 問7. 時系列データ\n",
    "> P-046: 顧客データフレーム（df_customer）の申し込み日（application_date）はYYYYMMD形式の文字列型でデータを保有している。これを日付型（dateやdatetime）に変換し、顧客ID（customer_id）とともに抽出せよ。なお、データは先頭5件を表示せよ。"
   ]
  },
  {
   "cell_type": "code",
   "execution_count": 14,
   "metadata": {
    "colab": {
     "base_uri": "https://localhost:8080/",
     "height": 348
    },
    "colab_type": "code",
    "id": "pVAxV-TWhhzA",
    "outputId": "2d2e2281-7181-41b4-81e4-a9e834b93927"
   },
   "outputs": [
    {
     "name": "stdout",
     "output_type": "stream",
     "text": [
      "      customer_id application_date\n",
      "0  CS021313000114       2015-09-05\n",
      "1  CS037613000071       2015-04-14\n",
      "2  CS031415000172       2015-05-29\n",
      "3  CS028811000001       2016-01-15\n",
      "4  CS001215000145       2017-06-05\n"
     ]
    }
   ],
   "source": [
    "df_customer['application_date'] = pd.to_datetime(df_customer['application_date'], format='%Y%m%d')\n",
    "\n",
    "df_result = df_customer[['customer_id', 'application_date']].head()\n",
    "print(df_result)\n"
   ]
  },
  {
   "attachments": {},
   "cell_type": "markdown",
   "metadata": {},
   "source": [
    "<details>\n",
    "<summary>ヒント1</summary>\n",
    "「pandas datetime」などで該当の機能が見つかるかと思います。\n",
    "</details>\n"
   ]
  },
  {
   "attachments": {},
   "cell_type": "markdown",
   "metadata": {},
   "source": [
    "<details>\n",
    "<summary>ヒント2</summary>\n",
    "\"pd.to_datetime\"というメソッドが使えるでしょう。このメソッドを適用する際ですが、for文を使わずに実装しましょう。"
   ]
  },
  {
   "cell_type": "markdown",
   "metadata": {
    "colab_type": "text",
    "id": "9v_q6BLjhhzU"
   },
   "source": [
    "---\n",
    "## 問8. 関数\n",
    "> P-061: レシート明細データフレーム（df_receipt）の売上金額（amount）を顧客ID（customer_id）ごとに合計し、合計した売上金額を常用対数化（底=10）して顧客ID、売上金額合計とともに表示せよ。ただし、顧客IDが\"Z\"から始まるのものは非会員を表すため、除外して計算すること。なお、結果は先頭5件を表示せよ。"
   ]
  },
  {
   "cell_type": "code",
   "execution_count": 16,
   "metadata": {
    "colab": {
     "base_uri": "https://localhost:8080/",
     "height": 437
    },
    "colab_type": "code",
    "id": "d5_2HQ-2hhzU",
    "outputId": "56ba3b92-2071-4a8d-c555-d9007bb43316"
   },
   "outputs": [
    {
     "name": "stdout",
     "output_type": "stream",
     "text": [
      "                amount  customer_sales_sum_log\n",
      "customer_id                                   \n",
      "CS001113000004    1298                3.113275\n",
      "CS001114000005     626                2.796574\n",
      "CS001115000010    3044                3.483445\n",
      "CS001205000004    1988                3.298416\n",
      "CS001205000006    3337                3.523356\n"
     ]
    }
   ],
   "source": [
    "df_receipt_only_member = df_receipt[~df_receipt[\"customer_id\"].str.startswith(\"Z\")]\n",
    "customer_sales_sum = df_receipt_only_member.groupby('customer_id')['amount'].sum()\n",
    "customer_sales_sum_log = np.log10(customer_sales_sum)\n",
    "df_result = pd.DataFrame({\n",
    "    'amount':customer_sales_sum,\n",
    "    'customer_sales_sum_log':customer_sales_sum_log\n",
    "}).head()\n",
    "print(df_result)\n",
    "\n",
    "\n"
   ]
  },
  {
   "cell_type": "markdown",
   "metadata": {},
   "source": []
  },
  {
   "cell_type": "markdown",
   "metadata": {
    "colab_type": "text",
    "id": "boe923CMhhzq"
   },
   "source": [
    "---\n",
    "## 問9. 欠損数\n",
    "> P-079: 商品データフレーム（df_product）の各項目に対し、欠損数を確認せよ。"
   ]
  },
  {
   "cell_type": "code",
   "execution_count": 18,
   "metadata": {
    "colab": {
     "base_uri": "https://localhost:8080/",
     "height": 169
    },
    "colab_type": "code",
    "id": "bxl__vC5hhzq",
    "outputId": "d8bb408a-6897-4e5a-8416-ce67a8a5fce4"
   },
   "outputs": [
    {
     "name": "stdout",
     "output_type": "stream",
     "text": [
      "product_cd            0\n",
      "category_major_cd     0\n",
      "category_medium_cd    0\n",
      "category_small_cd     0\n",
      "unit_price            7\n",
      "unit_cost             7\n",
      "dtype: int64\n"
     ]
    }
   ],
   "source": [
    "\n",
    "missing_counts = df_product.isnull().sum()\n",
    "\n",
    "print(missing_counts)\n"
   ]
  },
  {
   "cell_type": "markdown",
   "metadata": {},
   "source": []
  },
  {
   "cell_type": "markdown",
   "metadata": {
    "colab_type": "text",
    "id": "afprSqIvhhzs"
   },
   "source": [
    "---\n",
    "## 問10. 欠損値の除去\n",
    "> P-080: 商品データフレーム（df_product）のいずれかの項目に欠損が発生しているレコードを全て削除した新たなdf_product_1を作成せよ。なお、削除前後の件数を表示させ、前設問で確認した件数だけ減少していることも確認すること。"
   ]
  },
  {
   "cell_type": "code",
   "execution_count": 19,
   "metadata": {
    "colab": {},
    "colab_type": "code",
    "id": "q3_9sLdHhhzt"
   },
   "outputs": [],
   "source": [
    "df_product_1 = df_product.dropna()"
   ]
  },
  {
   "cell_type": "code",
   "execution_count": 20,
   "metadata": {
    "colab": {},
    "colab_type": "code",
    "id": "qFNnYstw1vTG"
   },
   "outputs": [
    {
     "data": {
      "text/plain": [
       "(10030, 10023)"
      ]
     },
     "execution_count": 20,
     "metadata": {},
     "output_type": "execute_result"
    }
   ],
   "source": [
    "len(df_product), len(df_product_1)"
   ]
  },
  {
   "cell_type": "markdown",
   "metadata": {
    "colab_type": "text",
    "id": "GtiO20ZKhhzu"
   },
   "source": [
    "---\n",
    "## 問11. 欠損値の穴埋め\n",
    "> P-081: 単価（unit_price）と原価（unit_cost）の欠損値について、それぞれの平均値で補完した新たなdf_product_2を作成せよ。なお、平均値について1円未満は四捨五入とせよ。補完実施後、各項目について欠損が生じていないことも確認すること。"
   ]
  },
  {
   "cell_type": "code",
   "execution_count": 22,
   "metadata": {
    "colab": {},
    "colab_type": "code",
    "id": "puFf-7Ewhhzu"
   },
   "outputs": [
    {
     "name": "stdout",
     "output_type": "stream",
     "text": [
      "product_cd            0\n",
      "category_major_cd     0\n",
      "category_medium_cd    0\n",
      "category_small_cd     0\n",
      "unit_price            0\n",
      "unit_cost             0\n",
      "dtype: int64\n"
     ]
    }
   ],
   "source": [
    "unit_price_average = round(df_product['unit_price'].mean())\n",
    "unit_cost_average = round(df_product['unit_cost'].mean())\n",
    "\n",
    "df_product_2 = df_product.copy()\n",
    "\n",
    "df_product_2['unit_price'] = df_product_2['unit_price'].fillna(unit_price_average)\n",
    "df_product_2['unit_cost'] = df_product_2['unit_cost'].fillna(unit_cost_average)\n",
    "missing_counts_after = df_product_2.isnull().sum()\n",
    "\n",
    "print(missing_counts_after)\n"
   ]
  },
  {
   "attachments": {},
   "cell_type": "markdown",
   "metadata": {},
   "source": [
    "### 余談\n",
    "ChatGPTやBing AIに聞けば大抵のことは教えてくれます。  \n",
    "何回か入力文章を吟味しないといけないこともありますが、知らないことを調べる場合は自分で検索するよりも早いです。  \n",
    "ただ、ChatGPTなどは嘘をつく場合があるので、自分でソースを参照する姿勢は必要です。  \n",
    "\n",
    "これはBingAIの回答例です。  \n",
    "\n",
    "![BingAIの回答例](./imgs/pandas/BingAI.png)"
   ]
  }
 ],
 "metadata": {
  "colab": {
   "name": "pandas_quiz.ipynb",
   "provenance": []
  },
  "kernelspec": {
   "display_name": "Python 3",
   "language": "python",
   "name": "python3"
  },
  "language_info": {
   "codemirror_mode": {
    "name": "ipython",
    "version": 3
   },
   "file_extension": ".py",
   "mimetype": "text/x-python",
   "name": "python",
   "nbconvert_exporter": "python",
   "pygments_lexer": "ipython3",
   "version": "3.10.4"
  }
 },
 "nbformat": 4,
 "nbformat_minor": 4
}
