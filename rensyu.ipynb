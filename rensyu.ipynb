{
 "cells": [
  {
   "cell_type": "code",
   "execution_count": 2,
   "metadata": {},
   "outputs": [
    {
     "name": "stdout",
     "output_type": "stream",
     "text": [
      "[ 4 10 18]\n",
      "32\n",
      "[[19 22]\n",
      " [43 50]]\n"
     ]
    }
   ],
   "source": [
    "import numpy as np\n",
    "\n",
    "# 要素ごとの掛け算\n",
    "arr1 = np.array([1, 2, 3])\n",
    "arr2 = np.array([4, 5, 6])\n",
    "element_wise_result = arr1 * arr2\n",
    "print(element_wise_result)  # Output: [4 10 18]\n",
    "\n",
    "# 内積（ベクトルの場合）\n",
    "dot_product_result = np.dot(arr1, arr2)\n",
    "print(dot_product_result)  # Output: 32\n",
    "\n",
    "# 行列積\n",
    "matrix1 = np.array([[1, 2], [3, 4]])\n",
    "matrix2 = np.array([[5, 6], [7, 8]])\n",
    "\n",
    "# Output: [[19 22]\n",
    "#          [43 50]]\n",
    "matrix_product_result = matrix1 @ matrix2\n",
    "\n",
    "print(matrix_product_result)\n"
   ]
  },
  {
   "cell_type": "code",
   "execution_count": 10,
   "metadata": {},
   "outputs": [
    {
     "data": {
      "text/plain": [
       "california       NaN\n",
       "ohio          3500.0\n",
       "oregon        1600.0\n",
       "Texas         7100.0\n",
       "dtype: float64"
      ]
     },
     "execution_count": 10,
     "metadata": {},
     "output_type": "execute_result"
    }
   ],
   "source": [
    "'''\n",
    "pandas入門\n",
    "'''\n",
    "import pandas as pd\n",
    "from pandas import Series, DataFrame\n",
    "sdata = {'ohio':3500,'Texas' : 7100, 'oregon':1600, 'Utah': 500}\n",
    "obj1 = pd.Series(sdata)\n",
    "states = ['california','ohio','oregon','Texas']\n",
    "pbj4 = pd.Series(sdata,index=states)\n",
    "pbj4"
   ]
  },
  {
   "cell_type": "code",
   "execution_count": null,
   "metadata": {},
   "outputs": [],
   "source": []
  }
 ],
 "metadata": {
  "kernelspec": {
   "display_name": "base",
   "language": "python",
   "name": "python3"
  },
  "language_info": {
   "codemirror_mode": {
    "name": "ipython",
    "version": 3
   },
   "file_extension": ".py",
   "mimetype": "text/x-python",
   "name": "python",
   "nbconvert_exporter": "python",
   "pygments_lexer": "ipython3",
   "version": "3.11.3"
  },
  "orig_nbformat": 4
 },
 "nbformat": 4,
 "nbformat_minor": 2
}
